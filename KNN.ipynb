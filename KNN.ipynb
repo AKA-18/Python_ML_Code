{
 "cells": [
  {
   "cell_type": "markdown",
   "id": "3474c4af",
   "metadata": {},
   "source": [
    "# Question 1\n",
    "Write the Python code for KNN classifier without using Scikit-learn library. (You are allowed \n",
    "to use the `math’ library. \n",
    "\n",
    "Evaluate the performance using Social_Network_Ads data set.\n",
    "\n",
    "Compare the performance that with the Scikit-learn library."
   ]
  },
  {
   "cell_type": "markdown",
   "id": "69771af3",
   "metadata": {},
   "source": [
    "# What is KNN Classificaction?\n",
    "- K-Nearest Neighbour is one of the simplest Machine Learning algorithms based on Supervised Learning technique.\n",
    "- K-NN algorithm assumes the similarity between the new case/data and available cases and put the new case into the category that is most similar to the available categories.\n",
    "- K-NN algorithm stores all the available data and classifies a new data point based on the similarity. This means when new data appears then it can be easily classified into a well suite category by using K- NN algorithm.\n",
    "- K-NN algorithm can be used for Regression as well as for Classification but mostly it is used for the Classification problems.\n",
    "- K-NN is a non-parametric algorithm, which means it does not make any assumption on underlying data.\n",
    "- It is also called a lazy learner algorithm because it does not learn from the training set immediately instead it stores the dataset and at the time of classification, it performs an action on the dataset.\n",
    "- KNN algorithm at the training phase just stores the dataset and when it gets new data, then it classifies that data into a category that is much similar to the new data."
   ]
  },
  {
   "cell_type": "markdown",
   "id": "5ef3f060",
   "metadata": {},
   "source": [
    "# Using User Defined Function"
   ]
  },
  {
   "cell_type": "code",
   "execution_count": 2,
   "id": "e2351341-f283-40bb-ace0-3720866914d3",
   "metadata": {},
   "outputs": [],
   "source": [
    "#loading important libraries/packages for performing KNN machine learning algorithm\n",
    "import numpy as np                                  #NumPy module works with the numerical data\n",
    "import pandas as pd                                 #Pandas module mainly works with the tabular data\n",
    "import matplotlib.pyplot as plt                     #for plotting the graphs\n",
    "import seaborn as sns                               #for plotting the graphs\n",
    "%matplotlib inline                                 \n",
    "sns.set()\n",
    "from math import *                                  #for doing math operation"
   ]
  },
  {
   "cell_type": "code",
   "execution_count": 3,
   "id": "5800cdd6-6335-4f80-a7b5-79c330f31728",
   "metadata": {},
   "outputs": [
    {
     "data": {
      "text/html": [
       "<div>\n",
       "<style scoped>\n",
       "    .dataframe tbody tr th:only-of-type {\n",
       "        vertical-align: middle;\n",
       "    }\n",
       "\n",
       "    .dataframe tbody tr th {\n",
       "        vertical-align: top;\n",
       "    }\n",
       "\n",
       "    .dataframe thead th {\n",
       "        text-align: right;\n",
       "    }\n",
       "</style>\n",
       "<table border=\"1\" class=\"dataframe\">\n",
       "  <thead>\n",
       "    <tr style=\"text-align: right;\">\n",
       "      <th></th>\n",
       "      <th>UserID</th>\n",
       "      <th>Gender</th>\n",
       "      <th>Age</th>\n",
       "      <th>EstimatedSalary</th>\n",
       "      <th>Purchased</th>\n",
       "    </tr>\n",
       "  </thead>\n",
       "  <tbody>\n",
       "    <tr>\n",
       "      <th>0</th>\n",
       "      <td>15624510</td>\n",
       "      <td>Male</td>\n",
       "      <td>19</td>\n",
       "      <td>19000</td>\n",
       "      <td>Not Purchased</td>\n",
       "    </tr>\n",
       "    <tr>\n",
       "      <th>1</th>\n",
       "      <td>15810944</td>\n",
       "      <td>Male</td>\n",
       "      <td>35</td>\n",
       "      <td>20000</td>\n",
       "      <td>Not Purchased</td>\n",
       "    </tr>\n",
       "    <tr>\n",
       "      <th>2</th>\n",
       "      <td>15668575</td>\n",
       "      <td>Female</td>\n",
       "      <td>26</td>\n",
       "      <td>43000</td>\n",
       "      <td>Not Purchased</td>\n",
       "    </tr>\n",
       "    <tr>\n",
       "      <th>3</th>\n",
       "      <td>15603246</td>\n",
       "      <td>Female</td>\n",
       "      <td>27</td>\n",
       "      <td>57000</td>\n",
       "      <td>Not Purchased</td>\n",
       "    </tr>\n",
       "    <tr>\n",
       "      <th>4</th>\n",
       "      <td>15804002</td>\n",
       "      <td>Male</td>\n",
       "      <td>19</td>\n",
       "      <td>76000</td>\n",
       "      <td>Not Purchased</td>\n",
       "    </tr>\n",
       "    <tr>\n",
       "      <th>...</th>\n",
       "      <td>...</td>\n",
       "      <td>...</td>\n",
       "      <td>...</td>\n",
       "      <td>...</td>\n",
       "      <td>...</td>\n",
       "    </tr>\n",
       "    <tr>\n",
       "      <th>395</th>\n",
       "      <td>15691863</td>\n",
       "      <td>Female</td>\n",
       "      <td>46</td>\n",
       "      <td>41000</td>\n",
       "      <td>Purchased</td>\n",
       "    </tr>\n",
       "    <tr>\n",
       "      <th>396</th>\n",
       "      <td>15706071</td>\n",
       "      <td>Male</td>\n",
       "      <td>51</td>\n",
       "      <td>23000</td>\n",
       "      <td>Purchased</td>\n",
       "    </tr>\n",
       "    <tr>\n",
       "      <th>397</th>\n",
       "      <td>15654296</td>\n",
       "      <td>Female</td>\n",
       "      <td>50</td>\n",
       "      <td>20000</td>\n",
       "      <td>Purchased</td>\n",
       "    </tr>\n",
       "    <tr>\n",
       "      <th>398</th>\n",
       "      <td>15755018</td>\n",
       "      <td>Male</td>\n",
       "      <td>36</td>\n",
       "      <td>33000</td>\n",
       "      <td>Not Purchased</td>\n",
       "    </tr>\n",
       "    <tr>\n",
       "      <th>399</th>\n",
       "      <td>15594041</td>\n",
       "      <td>Female</td>\n",
       "      <td>49</td>\n",
       "      <td>36000</td>\n",
       "      <td>Purchased</td>\n",
       "    </tr>\n",
       "  </tbody>\n",
       "</table>\n",
       "<p>400 rows × 5 columns</p>\n",
       "</div>"
      ],
      "text/plain": [
       "       UserID  Gender  Age  EstimatedSalary      Purchased\n",
       "0    15624510    Male   19            19000  Not Purchased\n",
       "1    15810944    Male   35            20000  Not Purchased\n",
       "2    15668575  Female   26            43000  Not Purchased\n",
       "3    15603246  Female   27            57000  Not Purchased\n",
       "4    15804002    Male   19            76000  Not Purchased\n",
       "..        ...     ...  ...              ...            ...\n",
       "395  15691863  Female   46            41000      Purchased\n",
       "396  15706071    Male   51            23000      Purchased\n",
       "397  15654296  Female   50            20000      Purchased\n",
       "398  15755018    Male   36            33000  Not Purchased\n",
       "399  15594041  Female   49            36000      Purchased\n",
       "\n",
       "[400 rows x 5 columns]"
      ]
     },
     "execution_count": 3,
     "metadata": {},
     "output_type": "execute_result"
    }
   ],
   "source": [
    "\n",
    "df = pd.DataFrame(pd.read_csv(\"Social_Network_Ads.csv\"))    #reading the csv file and converting it into dataframe\n",
    "df                                                          #show the dataframe"
   ]
  },
  {
   "cell_type": "code",
   "execution_count": 4,
   "id": "c6bba4e9-e7ba-4b2b-a6d3-9d53e97675a0",
   "metadata": {},
   "outputs": [],
   "source": [
    "y=df.drop(['UserID','Gender','Age','EstimatedSalary'],axis='columns')           #creating a new df from the df dataframe only by dropping 'UserID','Gender','Age','EstimatedSalary' column\n",
    "x=df.drop(['UserID','Gender','Purchased'],axis='columns')                       #creating a new df from the df1 dataframe only by dropping  'UserID','Gender','Purchased' columns\n"
   ]
  },
  {
   "cell_type": "code",
   "execution_count": 5,
   "id": "ab135bbc-8d98-442b-ac75-73e72ef841b2",
   "metadata": {},
   "outputs": [
    {
     "data": {
      "text/plain": [
       "Text(0.5, 1.0, 'Age-Estimated Salary Plot using Actual Value')"
      ]
     },
     "execution_count": 5,
     "metadata": {},
     "output_type": "execute_result"
    },
    {
     "data": {
      "image/png": "[encoded data removed]",
      "text/plain": [
       "<Figure size 432x288 with 1 Axes>"
      ]
     },
     "metadata": {},
     "output_type": "display_data"
    }
   ],
   "source": [
    "X=x.to_numpy()                                                                           #converting the dataframe x to numpy array X for easy modelling \n",
    "Y=y.to_numpy()                                                                           #converting the dataframe Y to numpy array Y for easy modelling\n",
    "for i in range(len(X)):                                                                  #loop counter\n",
    "    if Y[i] == 'Purchased':                                                              #checking if the target variable is 'purchased' or 'not purchased'\n",
    "        plt.scatter(X[i][0], X[i][1], s=30, marker='*', linewidths=2, color='green' )    #generating a scatter plot with age v/s estimated salary where actual target variable is equall to 'Purchased'\n",
    "    else:                                                                                #Else Condtion if target variable is 'Not-Purchased'\n",
    "        plt.scatter(X[i][0], X[i][1], s=30, marker='*', linewidths=2, color='red')       #generating a scatter plot with age v/s estimated salary where actual target variable is equall to 'Not Purchased'\n",
    "       \n",
    "plt.plot()                                                                               #ploting\n",
    "plt.xlabel('Age')                                                                        #xlabel of the plot\n",
    "plt.ylabel('Estimated-Salary')                                                           #ylabel of the plot\n",
    "plt.title('Age-Estimated Salary Plot using Actual Value')                                #title of the plot"
   ]
  },
  {
   "cell_type": "code",
   "execution_count": 6,
   "id": "c436da39-9f57-4884-a432-333f43a2e609",
   "metadata": {},
   "outputs": [
    {
     "data": {
      "text/html": [
       "<div>\n",
       "<style scoped>\n",
       "    .dataframe tbody tr th:only-of-type {\n",
       "        vertical-align: middle;\n",
       "    }\n",
       "\n",
       "    .dataframe tbody tr th {\n",
       "        vertical-align: top;\n",
       "    }\n",
       "\n",
       "    .dataframe thead th {\n",
       "        text-align: right;\n",
       "    }\n",
       "</style>\n",
       "<table border=\"1\" class=\"dataframe\">\n",
       "  <thead>\n",
       "    <tr style=\"text-align: right;\">\n",
       "      <th></th>\n",
       "      <th>UserID</th>\n",
       "      <th>Gender</th>\n",
       "      <th>Age</th>\n",
       "      <th>EstimatedSalary</th>\n",
       "      <th>Purchased</th>\n",
       "      <th>Actual_purchased</th>\n",
       "    </tr>\n",
       "  </thead>\n",
       "  <tbody>\n",
       "    <tr>\n",
       "      <th>0</th>\n",
       "      <td>15624510</td>\n",
       "      <td>Male</td>\n",
       "      <td>19</td>\n",
       "      <td>19000</td>\n",
       "      <td>Not Purchased</td>\n",
       "      <td>0</td>\n",
       "    </tr>\n",
       "    <tr>\n",
       "      <th>1</th>\n",
       "      <td>15810944</td>\n",
       "      <td>Male</td>\n",
       "      <td>35</td>\n",
       "      <td>20000</td>\n",
       "      <td>Not Purchased</td>\n",
       "      <td>0</td>\n",
       "    </tr>\n",
       "    <tr>\n",
       "      <th>2</th>\n",
       "      <td>15668575</td>\n",
       "      <td>Female</td>\n",
       "      <td>26</td>\n",
       "      <td>43000</td>\n",
       "      <td>Not Purchased</td>\n",
       "      <td>0</td>\n",
       "    </tr>\n",
       "    <tr>\n",
       "      <th>3</th>\n",
       "      <td>15603246</td>\n",
       "      <td>Female</td>\n",
       "      <td>27</td>\n",
       "      <td>57000</td>\n",
       "      <td>Not Purchased</td>\n",
       "      <td>0</td>\n",
       "    </tr>\n",
       "    <tr>\n",
       "      <th>4</th>\n",
       "      <td>15804002</td>\n",
       "      <td>Male</td>\n",
       "      <td>19</td>\n",
       "      <td>76000</td>\n",
       "      <td>Not Purchased</td>\n",
       "      <td>0</td>\n",
       "    </tr>\n",
       "    <tr>\n",
       "      <th>...</th>\n",
       "      <td>...</td>\n",
       "      <td>...</td>\n",
       "      <td>...</td>\n",
       "      <td>...</td>\n",
       "      <td>...</td>\n",
       "      <td>...</td>\n",
       "    </tr>\n",
       "    <tr>\n",
       "      <th>395</th>\n",
       "      <td>15691863</td>\n",
       "      <td>Female</td>\n",
       "      <td>46</td>\n",
       "      <td>41000</td>\n",
       "      <td>Purchased</td>\n",
       "      <td>1</td>\n",
       "    </tr>\n",
       "    <tr>\n",
       "      <th>396</th>\n",
       "      <td>15706071</td>\n",
       "      <td>Male</td>\n",
       "      <td>51</td>\n",
       "      <td>23000</td>\n",
       "      <td>Purchased</td>\n",
       "      <td>1</td>\n",
       "    </tr>\n",
       "    <tr>\n",
       "      <th>397</th>\n",
       "      <td>15654296</td>\n",
       "      <td>Female</td>\n",
       "      <td>50</td>\n",
       "      <td>20000</td>\n",
       "      <td>Purchased</td>\n",
       "      <td>1</td>\n",
       "    </tr>\n",
       "    <tr>\n",
       "      <th>398</th>\n",
       "      <td>15755018</td>\n",
       "      <td>Male</td>\n",
       "      <td>36</td>\n",
       "      <td>33000</td>\n",
       "      <td>Not Purchased</td>\n",
       "      <td>0</td>\n",
       "    </tr>\n",
       "    <tr>\n",
       "      <th>399</th>\n",
       "      <td>15594041</td>\n",
       "      <td>Female</td>\n",
       "      <td>49</td>\n",
       "      <td>36000</td>\n",
       "      <td>Purchased</td>\n",
       "      <td>1</td>\n",
       "    </tr>\n",
       "  </tbody>\n",
       "</table>\n",
       "<p>400 rows × 6 columns</p>\n",
       "</div>"
      ],
      "text/plain": [
       "       UserID  Gender  Age  EstimatedSalary      Purchased  Actual_purchased\n",
       "0    15624510    Male   19            19000  Not Purchased                 0\n",
       "1    15810944    Male   35            20000  Not Purchased                 0\n",
       "2    15668575  Female   26            43000  Not Purchased                 0\n",
       "3    15603246  Female   27            57000  Not Purchased                 0\n",
       "4    15804002    Male   19            76000  Not Purchased                 0\n",
       "..        ...     ...  ...              ...            ...               ...\n",
       "395  15691863  Female   46            41000      Purchased                 1\n",
       "396  15706071    Male   51            23000      Purchased                 1\n",
       "397  15654296  Female   50            20000      Purchased                 1\n",
       "398  15755018    Male   36            33000  Not Purchased                 0\n",
       "399  15594041  Female   49            36000      Purchased                 1\n",
       "\n",
       "[400 rows x 6 columns]"
      ]
     },
     "execution_count": 6,
     "metadata": {},
     "output_type": "execute_result"
    }
   ],
   "source": [
    "df['Actual_purchased'] = [1 if x == \"Purchased\"  else  0 for x in df['Purchased']]  #converting the target variable to boolean values for performing final validation\n",
    "df                                                                                  #showing the dataframe"
   ]
  },
  {
   "cell_type": "markdown",
   "id": "bd5fc16d",
   "metadata": {},
   "source": [
    "# Approach 1\n",
    "\n",
    "Here we are training the KNN algorithm using the entire dataset and then we are giving custom value to algorithm to predict the what is the target variable of the above custom point. "
   ]
  },
  {
   "cell_type": "markdown",
   "id": "9f305418",
   "metadata": {},
   "source": [
    "# Function and Logic For Checking Custom Points being added to knn Algorithm"
   ]
  },
  {
   "cell_type": "code",
   "execution_count": 7,
   "id": "09a3f783-1292-4c8b-bcdf-f333c2426e83",
   "metadata": {},
   "outputs": [],
   "source": [
    "dfn = df.drop(['UserID','Gender','Purchased','Actual_purchased'], axis = 1).values.tolist()        #creating a new df from the df dataframe only by dropping 'UserID','Gender','Purchased','Actual_purchased' column and converting the same to list\n",
    "dft = df.drop(['UserID','Gender','Age','EstimatedSalary','Purchased'], axis = 1).values.tolist()   #creating a new df from the df dataframe only by dropping 'UserID','Gender','Age','EstimatedSalary','Purchased' column and converting the same to list"
   ]
  },
  {
   "cell_type": "code",
   "execution_count": 8,
   "id": "594836d2-e06d-4708-89c3-0f2a37cae63d",
   "metadata": {},
   "outputs": [],
   "source": [
    "def euclidean_distance(a,f,k):                                    #function for finding the euclidean_distance with input parameters age,estimated salary and k value\n",
    "    dist = [[0] * 1 for i in range(len(x))]                       #creating a array named dist which is having the same row size as our dataframe\n",
    "    for i in range(len(x)):                                       #loop counter\n",
    "        dis = (dfn[i][0]-a)**2 + (dfn[i][1]-f)**2                 #performing euclidean_distance formula on the dataframe\n",
    "        dist[i] = sqrt(dis)                                       #calculating the square root of the above calculated distance\n",
    "    b = np.argsort(dist)                                          #performing index sort on the distance calculated\n",
    "    c = []                                                        #creating an empty list\n",
    "    for i in range(k+1):                                          #loop counter\n",
    "        c.append(b[i])                                            #appending the index of first k nearest neigbours\n",
    "    p=0                                                           #temporary purchased variable\n",
    "    for i in range(k+1):                                          #loop counter\n",
    "        if(dft[c[i]]==[1]):                                       #if the target variable value at the index is equall to 1\n",
    "            p+=1                                                  #updating purchased variable\n",
    "    if(p>floor(k/2)):                                             #comparing p is greater than k/2  \n",
    "        return 1                                                  #return one which gets mapped to purchased\n",
    "    else:                                                         #else condition\n",
    "        return 0                                                  #return zero which gets mapped to non purchased\n",
    "    \n",
    "def efficiency(dfn,k):                                            #function for calculating the predicted values using the input variables and k values\n",
    "    pdt= []                                                       #declaring a manual predictor variable\n",
    "    for i in range(len(dfn)):                                     #Loop counter\n",
    "        r = euclidean_distance(dfn[i][0],dfn[i][1],k)             #performing euclidean_distance and save the return value of this function in pdt variable, that is zero is considered to be non-purchased and one is considered to be purchased.\n",
    "        pdt.append(r)                                             #appending the 'r' value to pdt variable\n",
    "    vp_pur = 0                                                    #predicted purchase value\n",
    "    vn_pur = 0                                                    #predicted not-purchased value\n",
    "    for i in pdt:                                                 #looping thorugh pdt value\n",
    "        if(i == 1):                                               #if the counter is equall to '1'\n",
    "            vp_pur+=1                                             #if the value is one, put predicted purchase value =1\n",
    "        else:                                                     #else condition\n",
    "            vn_pur+=1                                             #if the value is zero, put predicted not purchase value\n",
    "    print('Predicted Purchased Value -', vp_pur)                  #printing the values\n",
    "    print('Predicted Non-Purchased Value -', vn_pur)              #printing the values\n",
    "    giv=[]                                                        #declaring the temporary given variable\n",
    "    for i in range(len(dfn)):                                     #loop counter\n",
    "        q = dft[i]                                                #copying values from target array to a temp variable\n",
    "        giv.append(q)                                             #appending the temp variable to the 'giv' list\n",
    "    vg_pur = 0                                                    #given purchased value\n",
    "    vgn_pur = 0                                                   #given non purchased value\n",
    "    for i in giv:                                                 #Looping thorugh giv value\n",
    "        if(i == [1]):                                             #if the counter is equall to '1'\n",
    "            vg_pur+=1                                             #if the value is one, put given purchase value =1\n",
    "        else:                                                     #else conditon\n",
    "            vgn_pur+=1                                            #if the value is zero, put given purchase value =1\n",
    "    print('Given Purchased Value in dataframe -', vg_pur)         #printing the values\n",
    "    print('Given Non Purchased Value in dataframe -', vgn_pur)    #printing the values\n",
    "    diff = abs(int(vg_pur) -int(vp_pur))                          #calculating the difference between given value and predicted value\n",
    "    total_count=len(dfn)                                          #calculting the total length of the dataframe\n",
    "    eff=100-(diff/total_count)*100                                #calculating the efficiency\n",
    "    print('Efficiency of the model -',eff)                                     #printing the efficiency value\n",
    "    return pdt                                                    #returning the manual predicted value\n",
    "    "
   ]
  },
  {
   "cell_type": "code",
   "execution_count": 9,
   "id": "628a1d26-4956-45cf-8c7f-a42a791d7c3a",
   "metadata": {},
   "outputs": [],
   "source": [
    "def user_defined_knn(dfn,dft,Age,Estimated_Salary,k):                          #main function which executes the user defined function\n",
    "    distance=euclidean_distance(Age,Estimated_Salary,k)                        #function for calling euclidean_distance\n",
    "    if distance==1:                                                            #if the distance is one then print the result as purchased\n",
    "        print('Purchased')                                                     #printing 'purchased'\n",
    "    else:                                                                      #if the distance is zero then print the result as not purchased\n",
    "        print('Not Purchased')                                                 #printing 'not purchased'\n",
    "    pdt=efficiency(dfn,k)                                                      #calling function for calculating the efficiency of the model\n",
    "    f_df=df.drop(['UserID','Gender','Purchased'], axis = 1)                    #creating a final dataframe by dropping 'UserID','Gender','Purchased' from original df dataframe      \n",
    "    f_df['predicted_value'] = np.array(pdt)                                    #adding the predicted values(pdt) to the final dataframe\n",
    "    color = ['green' if x == 1  else  'red' for x in f_df['predicted_value']]  #ploting the age vs predicted values using the 'predicted value' as a a filter\n",
    "    plt.scatter(f_df['Age'],f_df['EstimatedSalary'] ,c=color ,marker='*')      #performing scatter plot\n",
    "    plt.xlabel('Age')                                                          #printing xlabel\n",
    "    plt.ylabel('Estimated-Salary')                                             #printing ylabel\n",
    "    plt.title('Age-Estimated Salary Plot using Predicted Value')               #printing title\n",
    "    \n"
   ]
  },
  {
   "cell_type": "markdown",
   "id": "189a7658",
   "metadata": {},
   "source": [
    "# Block For categorizing custom value using knn."
   ]
  },
  {
   "cell_type": "code",
   "execution_count": 10,
   "id": "a755ba34-e85b-4a73-8ee8-7a36d3212580",
   "metadata": {},
   "outputs": [
    {
     "name": "stdout",
     "output_type": "stream",
     "text": [
      "Not Purchased\n",
      "Predicted Purchased Value - 153\n",
      "Predicted Non-Purchased Value - 247\n",
      "Given Purchased Value in dataframe - 143\n",
      "Given Non Purchased Value in dataframe - 257\n",
      "Efficiency of the model - 97.5\n"
     ]
    },
    {
     "data": {
      "image/png": "[encoded data removed]",
      "text/plain": [
       "<Figure size 432x288 with 1 Axes>"
      ]
     },
     "metadata": {},
     "output_type": "display_data"
    }
   ],
   "source": [
    "#variable declartion\n",
    "Age = 46                                           #declaring age\n",
    "Estimated_Salary=78000                             #decalring salary\n",
    "k=5                                                #decalring k value\n",
    "user_defined_knn(dfn,dft,Age,Estimated_Salary,k)   #calling user defined knn function\n"
   ]
  },
  {
   "cell_type": "markdown",
   "id": "280177cc",
   "metadata": {},
   "source": [
    "# Approach 2\n",
    "\n",
    "Here we split the entire dataset into training and testing set and then perform the knn algorithm. This approach will uses the train and test data to provide the predicted value of the test data"
   ]
  },
  {
   "cell_type": "markdown",
   "id": "ec434d0d",
   "metadata": {},
   "source": [
    "# Using Train-Test Model Appraoch to predict the accuracy"
   ]
  },
  {
   "cell_type": "code",
   "execution_count": 17,
   "id": "6c2a8742",
   "metadata": {},
   "outputs": [],
   "source": [
    "from collections import Counter #importing \n",
    "\n",
    "\n",
    "# Shuffle your dataset \n",
    "shuffle_df = df.sample(frac=1)\n",
    "\n",
    "Y=shuffle_df['Actual_purchased'].to_numpy()                                                                              #creating a new df from the df dataframe only by dropping 'UserID','Gender','Age','EstimatedSalary' column\n",
    "X=shuffle_df.drop(['UserID','Gender','Purchased','Actual_purchased'],axis='columns').to_numpy()                          #creating a new df from the df1 dataframe only by dropping  'UserID','Gender','Purchased' columns\n",
    "\n",
    "# Splitting the dataset into the Training set and Test set\n",
    "train_pct_index = int(0.8 * len(X))                                                                              #mapping the top 320 index value to a variable \n",
    "X_train, X_test = X[:train_pct_index], X[train_pct_index:]                                                       #mapping x_train, x_test for top 80 percentage records.                                                    \n",
    "y_train, y_test = Y[:train_pct_index], Y[train_pct_index:]                                                       #mapping y_train, y_test for bottom 20 percentage records\n",
    "    \n",
    "\n",
    "\n",
    "def predict(X_train,X_test,k):                                                                                   #function declartion for predicting data using xtrain, xtest and k values\n",
    "        final_output=[]                                                                                          #decalring final output variable \n",
    "        for i in range(len(X_test)):                                                                             #loop counter\n",
    "            d = []                                                                                               #declaring variables\n",
    "            votes = []                                                                                           #declaring variable\n",
    "            for j in range(len(X_train)):                                                                        #loop counter\n",
    "                dist = sqrt((X_train[j][0]-X_test[i][0])**2 + (X_train[j][1]-X_test[i][1])**2)                   #calculating the distance between training and testing set\n",
    "                d.append([dist, j])                                                                              #making the list with index\n",
    "            d.sort()                                                                                             #sorting the list\n",
    "            d = d[0:k]                                                                                           #taking the first 5 values from the distance list\n",
    "            for d, j in d:                                                                                       #loop counter\n",
    "                votes.append(y_train[j])                                                                         #appending to the list votes                                                                         \n",
    "            ans = Counter(votes).most_common(1)[0][0]                                                            #prediction of the target variable which is predicted using overall status of target variable surrounding the traget variable(purchased or not purcahsed)\n",
    "            final_output.append(ans)                                                                             #appending to final output\n",
    "        return final_output                                                                                      #returing the final output variable                                                                                      \n",
    "    \n",
    "def accuracy(actual, predicted):                                                                                 #declaring function for predicting the accuracy of the model                                                                                \n",
    "    correct = 0                                                                                                  #taking correct value is equall to zero                                                                                                \n",
    "    for i in range(len(actual)):                                                                                 #loop counter\n",
    "        if actual[i] == predicted[i]:                                                                            #if actual value is equall to predicted value\n",
    "            correct += 1                                                                                         #increase the count by one\n",
    "    return correct / float(len(actual)) * 100.0                                                                  #calculting the accuracy by using predicted and actual value"
   ]
  },
  {
   "cell_type": "markdown",
   "id": "b25a6968",
   "metadata": {},
   "source": [
    "# Main Function for Train-Test Approach"
   ]
  },
  {
   "cell_type": "code",
   "execution_count": 18,
   "id": "5d4c51f9",
   "metadata": {},
   "outputs": [
    {
     "data": {
      "text/plain": [
       "85.0"
      ]
     },
     "execution_count": 18,
     "metadata": {},
     "output_type": "execute_result"
    }
   ],
   "source": [
    "k=5                                            #declaring the k value\n",
    "predicted=predict(X_train,X_test,k)            #predicting the values using x_train,x_test and k value\n",
    "actual=y_test                                  #declaring actual value is equall to y_test\n",
    "accuracy(actual,predicted)              #predicting the accuracy of the model"
   ]
  },
  {
   "cell_type": "markdown",
   "id": "dbca36d0-3bb2-4138-9c30-e9b5a5635432",
   "metadata": {},
   "source": [
    "# Executing KNN using Scikit-learn library"
   ]
  },
  {
   "cell_type": "code",
   "execution_count": 19,
   "id": "5bc3d5af-93e9-46c6-940d-1c707a5f68b9",
   "metadata": {},
   "outputs": [],
   "source": [
    "# Importing the dataset\n",
    "dataset = pd.read_csv('Social_Network_Ads.csv')                                                  #reading the dataset\n",
    "X = dataset.iloc[:, [2, 3]].values                                                               #decalring the dependant variable \n",
    "y = dataset.iloc[:, -1].values                                                                   #decalring target variable\n",
    "\n",
    "# Splitting the dataset into the Training set and Test set\n",
    "from sklearn.model_selection import train_test_split                                              #importing libarary for train-test split\n",
    "X_train, X_test, y_train, y_test = train_test_split(X, y, test_size = 0.20, random_state = 101, shuffle=True)     #splitting of data to trainig and testing\n",
    "\n",
    "# Feature Scaling\n",
    "#Feature Scaling is a technique to standardize the independent features present in the data in a fixed range.\n",
    "from sklearn.preprocessing import StandardScaler\n",
    "sc = StandardScaler()\n",
    "X_train = sc.fit_transform(X_train)                                                               #feature scaling the X train data\n",
    "X_test = sc.transform(X_test)                                                                     #feature scalling the X test data\n",
    "\n",
    "# Training the K-NN model on the Training set\n",
    "from sklearn.neighbors import KNeighborsClassifier                                                #importing knn classifier\n",
    "classifier = KNeighborsClassifier(n_neighbors =7, metric = 'minkowski', p = 2)                    #performing knn classification\n",
    "classifier.fit(X_train, y_train)                                                                  #fitting the model\n",
    "\n",
    "# Predicting the Test set results\n",
    "y_pred = classifier.predict(X_test)                                                                #predicting the model\n",
    "\n",
    "# Making the Confusion Matrix\n",
    "from sklearn.metrics import confusion_matrix, accuracy_score\n",
    "cm = confusion_matrix(y_test, y_pred)                                                              #calculting the confusion matrix\n",
    "ac = accuracy_score(y_test, y_pred)                                                                #calculating the accuracy"
   ]
  },
  {
   "cell_type": "code",
   "execution_count": 20,
   "id": "720f9b88-e9ca-4dd6-a690-7d6f7123fee1",
   "metadata": {},
   "outputs": [
    {
     "name": "stdout",
     "output_type": "stream",
     "text": [
      "               precision    recall  f1-score   support\n",
      "\n",
      "Not Purchased       1.00      0.89      0.94        54\n",
      "    Purchased       0.81      1.00      0.90        26\n",
      "\n",
      "     accuracy                           0.93        80\n",
      "    macro avg       0.91      0.94      0.92        80\n",
      " weighted avg       0.94      0.93      0.93        80\n",
      "\n"
     ]
    }
   ],
   "source": [
    "from sklearn.metrics import classification_report, accuracy_score, confusion_matrix                #importing library for predicting classification_report, accuracy_score, confusion_matrix\n",
    "print(classification_report(y_test,y_pred))                                                        #predicting the accuracy,precision,recall,f1-score,support"
   ]
  },
  {
   "cell_type": "code",
   "execution_count": null,
   "id": "26b7a2c5",
   "metadata": {},
   "outputs": [],
   "source": []
  }
 ],
 "metadata": {
  "kernelspec": {
   "display_name": "Python 3 (ipykernel)",
   "language": "python",
   "name": "python3"
  },
  "language_info": {
   "codemirror_mode": {
    "name": "ipython",
    "version": 3
   },
   "file_extension": ".py",
   "mimetype": "text/x-python",
   "name": "python",
   "nbconvert_exporter": "python",
   "pygments_lexer": "ipython3",
   "version": "3.9.7"
  }
 },
 "nbformat": 4,
 "nbformat_minor": 5
}
